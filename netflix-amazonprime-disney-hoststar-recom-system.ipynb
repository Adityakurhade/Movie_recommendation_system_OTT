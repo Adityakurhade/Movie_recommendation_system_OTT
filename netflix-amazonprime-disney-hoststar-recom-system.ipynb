{
 "cells": [
  {
   "cell_type": "code",
   "execution_count": 1,
   "id": "35c47bc4",
   "metadata": {
    "_cell_guid": "b1076dfc-b9ad-4769-8c92-a6c4dae69d19",
    "_uuid": "8f2839f25d086af736a60e9eeb907d3b93b6e0e5",
    "execution": {
     "iopub.execute_input": "2021-12-22T07:58:32.489180Z",
     "iopub.status.busy": "2021-12-22T07:58:32.487096Z",
     "iopub.status.idle": "2021-12-22T07:58:32.519168Z",
     "shell.execute_reply": "2021-12-22T07:58:32.519928Z",
     "shell.execute_reply.started": "2021-12-22T07:08:51.524969Z"
    },
    "papermill": {
     "duration": 0.069679,
     "end_time": "2021-12-22T07:58:32.520317",
     "exception": false,
     "start_time": "2021-12-22T07:58:32.450638",
     "status": "completed"
    },
    "tags": []
   },
   "outputs": [
    {
     "name": "stdout",
     "output_type": "stream",
     "text": [
      "/kaggle/input/amazon-prime-movies-and-tv-shows/amazon_prime_titles.csv\n",
      "/kaggle/input/netflix-shows/netflix_titles.csv\n",
      "/kaggle/input/disney-movies-and-tv-shows/disney_plus_titles.csv\n"
     ]
    }
   ],
   "source": [
    "# This Python 3 environment comes with many helpful analytics libraries installed\n",
    "# It is defined by the kaggle/python Docker image: https://github.com/kaggle/docker-python\n",
    "# For example, here's several helpful packages to load\n",
    "\n",
    "import numpy as np # linear algebra\n",
    "import pandas as pd # data processing, CSV file I/O (e.g. pd.read_csv)\n",
    "\n",
    "# Input data files are available in the read-only \"../input/\" directory\n",
    "# For example, running this (by clicking run or pressing Shift+Enter) will list all files under the input directory\n",
    "\n",
    "import os\n",
    "for dirname, _, filenames in os.walk('/kaggle/input'):\n",
    "    for filename in filenames:\n",
    "        print(os.path.join(dirname, filename))\n",
    "\n",
    "# You can write up to 20GB to the current directory (/kaggle/working/) that gets preserved as output when you create a version using \"Save & Run All\" \n",
    "# You can also write temporary files to /kaggle/temp/, but they won't be saved outside of the current session"
   ]
  },
  {
   "cell_type": "markdown",
   "id": "3a6f19c2",
   "metadata": {
    "papermill": {
     "duration": 0.030133,
     "end_time": "2021-12-22T07:58:32.582084",
     "exception": false,
     "start_time": "2021-12-22T07:58:32.551951",
     "status": "completed"
    },
    "tags": []
   },
   "source": [
    "Here we will be building content based recommendation system for movies and web shows on 3 OTT platforms viz: Netflix,\n",
    "Amazon Prime and Disney+ Hotstar.\n",
    "As these are most popular OTT platforms worldwide, one might stuck on what to watch on them."
   ]
  },
  {
   "cell_type": "markdown",
   "id": "c4cb5056",
   "metadata": {
    "papermill": {
     "duration": 0.030972,
     "end_time": "2021-12-22T07:58:32.644086",
     "exception": false,
     "start_time": "2021-12-22T07:58:32.613114",
     "status": "completed"
    },
    "tags": []
   },
   "source": [
    "# Loading Datasets"
   ]
  },
  {
   "cell_type": "code",
   "execution_count": 2,
   "id": "0c2d15e0",
   "metadata": {
    "execution": {
     "iopub.execute_input": "2021-12-22T07:58:32.709418Z",
     "iopub.status.busy": "2021-12-22T07:58:32.708431Z",
     "iopub.status.idle": "2021-12-22T07:58:32.933105Z",
     "shell.execute_reply": "2021-12-22T07:58:32.933613Z",
     "shell.execute_reply.started": "2021-12-22T07:08:51.661778Z"
    },
    "papermill": {
     "duration": 0.259349,
     "end_time": "2021-12-22T07:58:32.933829",
     "exception": false,
     "start_time": "2021-12-22T07:58:32.674480",
     "status": "completed"
    },
    "tags": []
   },
   "outputs": [
    {
     "data": {
      "text/html": [
       "<div>\n",
       "<style scoped>\n",
       "    .dataframe tbody tr th:only-of-type {\n",
       "        vertical-align: middle;\n",
       "    }\n",
       "\n",
       "    .dataframe tbody tr th {\n",
       "        vertical-align: top;\n",
       "    }\n",
       "\n",
       "    .dataframe thead th {\n",
       "        text-align: right;\n",
       "    }\n",
       "</style>\n",
       "<table border=\"1\" class=\"dataframe\">\n",
       "  <thead>\n",
       "    <tr style=\"text-align: right;\">\n",
       "      <th></th>\n",
       "      <th>show_id</th>\n",
       "      <th>type</th>\n",
       "      <th>title</th>\n",
       "      <th>director</th>\n",
       "      <th>cast</th>\n",
       "      <th>country</th>\n",
       "      <th>date_added</th>\n",
       "      <th>release_year</th>\n",
       "      <th>rating</th>\n",
       "      <th>duration</th>\n",
       "      <th>listed_in</th>\n",
       "      <th>description</th>\n",
       "    </tr>\n",
       "  </thead>\n",
       "  <tbody>\n",
       "    <tr>\n",
       "      <th>0</th>\n",
       "      <td>s1</td>\n",
       "      <td>Movie</td>\n",
       "      <td>Dick Johnson Is Dead</td>\n",
       "      <td>Kirsten Johnson</td>\n",
       "      <td>NaN</td>\n",
       "      <td>United States</td>\n",
       "      <td>September 25, 2021</td>\n",
       "      <td>2020</td>\n",
       "      <td>PG-13</td>\n",
       "      <td>90 min</td>\n",
       "      <td>Documentaries</td>\n",
       "      <td>As her father nears the end of his life, filmm...</td>\n",
       "    </tr>\n",
       "    <tr>\n",
       "      <th>1</th>\n",
       "      <td>s2</td>\n",
       "      <td>TV Show</td>\n",
       "      <td>Blood &amp; Water</td>\n",
       "      <td>NaN</td>\n",
       "      <td>Ama Qamata, Khosi Ngema, Gail Mabalane, Thaban...</td>\n",
       "      <td>South Africa</td>\n",
       "      <td>September 24, 2021</td>\n",
       "      <td>2021</td>\n",
       "      <td>TV-MA</td>\n",
       "      <td>2 Seasons</td>\n",
       "      <td>International TV Shows, TV Dramas, TV Mysteries</td>\n",
       "      <td>After crossing paths at a party, a Cape Town t...</td>\n",
       "    </tr>\n",
       "    <tr>\n",
       "      <th>2</th>\n",
       "      <td>s3</td>\n",
       "      <td>TV Show</td>\n",
       "      <td>Ganglands</td>\n",
       "      <td>Julien Leclercq</td>\n",
       "      <td>Sami Bouajila, Tracy Gotoas, Samuel Jouy, Nabi...</td>\n",
       "      <td>NaN</td>\n",
       "      <td>September 24, 2021</td>\n",
       "      <td>2021</td>\n",
       "      <td>TV-MA</td>\n",
       "      <td>1 Season</td>\n",
       "      <td>Crime TV Shows, International TV Shows, TV Act...</td>\n",
       "      <td>To protect his family from a powerful drug lor...</td>\n",
       "    </tr>\n",
       "    <tr>\n",
       "      <th>3</th>\n",
       "      <td>s4</td>\n",
       "      <td>TV Show</td>\n",
       "      <td>Jailbirds New Orleans</td>\n",
       "      <td>NaN</td>\n",
       "      <td>NaN</td>\n",
       "      <td>NaN</td>\n",
       "      <td>September 24, 2021</td>\n",
       "      <td>2021</td>\n",
       "      <td>TV-MA</td>\n",
       "      <td>1 Season</td>\n",
       "      <td>Docuseries, Reality TV</td>\n",
       "      <td>Feuds, flirtations and toilet talk go down amo...</td>\n",
       "    </tr>\n",
       "    <tr>\n",
       "      <th>4</th>\n",
       "      <td>s5</td>\n",
       "      <td>TV Show</td>\n",
       "      <td>Kota Factory</td>\n",
       "      <td>NaN</td>\n",
       "      <td>Mayur More, Jitendra Kumar, Ranjan Raj, Alam K...</td>\n",
       "      <td>India</td>\n",
       "      <td>September 24, 2021</td>\n",
       "      <td>2021</td>\n",
       "      <td>TV-MA</td>\n",
       "      <td>2 Seasons</td>\n",
       "      <td>International TV Shows, Romantic TV Shows, TV ...</td>\n",
       "      <td>In a city of coaching centers known to train I...</td>\n",
       "    </tr>\n",
       "  </tbody>\n",
       "</table>\n",
       "</div>"
      ],
      "text/plain": [
       "  show_id     type                  title         director  \\\n",
       "0      s1    Movie   Dick Johnson Is Dead  Kirsten Johnson   \n",
       "1      s2  TV Show          Blood & Water              NaN   \n",
       "2      s3  TV Show              Ganglands  Julien Leclercq   \n",
       "3      s4  TV Show  Jailbirds New Orleans              NaN   \n",
       "4      s5  TV Show           Kota Factory              NaN   \n",
       "\n",
       "                                                cast        country  \\\n",
       "0                                                NaN  United States   \n",
       "1  Ama Qamata, Khosi Ngema, Gail Mabalane, Thaban...   South Africa   \n",
       "2  Sami Bouajila, Tracy Gotoas, Samuel Jouy, Nabi...            NaN   \n",
       "3                                                NaN            NaN   \n",
       "4  Mayur More, Jitendra Kumar, Ranjan Raj, Alam K...          India   \n",
       "\n",
       "           date_added  release_year rating   duration  \\\n",
       "0  September 25, 2021          2020  PG-13     90 min   \n",
       "1  September 24, 2021          2021  TV-MA  2 Seasons   \n",
       "2  September 24, 2021          2021  TV-MA   1 Season   \n",
       "3  September 24, 2021          2021  TV-MA   1 Season   \n",
       "4  September 24, 2021          2021  TV-MA  2 Seasons   \n",
       "\n",
       "                                           listed_in  \\\n",
       "0                                      Documentaries   \n",
       "1    International TV Shows, TV Dramas, TV Mysteries   \n",
       "2  Crime TV Shows, International TV Shows, TV Act...   \n",
       "3                             Docuseries, Reality TV   \n",
       "4  International TV Shows, Romantic TV Shows, TV ...   \n",
       "\n",
       "                                         description  \n",
       "0  As her father nears the end of his life, filmm...  \n",
       "1  After crossing paths at a party, a Cape Town t...  \n",
       "2  To protect his family from a powerful drug lor...  \n",
       "3  Feuds, flirtations and toilet talk go down amo...  \n",
       "4  In a city of coaching centers known to train I...  "
      ]
     },
     "execution_count": 2,
     "metadata": {},
     "output_type": "execute_result"
    }
   ],
   "source": [
    "# Load netflix data\n",
    "netflix = pd.read_csv(\"/kaggle/input/netflix-shows/netflix_titles.csv\")\n",
    "netflix.head()"
   ]
  },
  {
   "cell_type": "code",
   "execution_count": 3,
   "id": "e464da6f",
   "metadata": {
    "execution": {
     "iopub.execute_input": "2021-12-22T07:58:32.999715Z",
     "iopub.status.busy": "2021-12-22T07:58:32.998744Z",
     "iopub.status.idle": "2021-12-22T07:58:33.004484Z",
     "shell.execute_reply": "2021-12-22T07:58:33.005042Z",
     "shell.execute_reply.started": "2021-12-22T07:08:51.840455Z"
    },
    "papermill": {
     "duration": 0.040261,
     "end_time": "2021-12-22T07:58:33.005210",
     "exception": false,
     "start_time": "2021-12-22T07:58:32.964949",
     "status": "completed"
    },
    "tags": []
   },
   "outputs": [
    {
     "data": {
      "text/plain": [
       "(8807, 12)"
      ]
     },
     "execution_count": 3,
     "metadata": {},
     "output_type": "execute_result"
    }
   ],
   "source": [
    "netflix.shape"
   ]
  },
  {
   "cell_type": "code",
   "execution_count": 4,
   "id": "42f8dda1",
   "metadata": {
    "execution": {
     "iopub.execute_input": "2021-12-22T07:58:33.074193Z",
     "iopub.status.busy": "2021-12-22T07:58:33.073510Z",
     "iopub.status.idle": "2021-12-22T07:58:33.276770Z",
     "shell.execute_reply": "2021-12-22T07:58:33.276229Z",
     "shell.execute_reply.started": "2021-12-22T07:08:51.848052Z"
    },
    "papermill": {
     "duration": 0.240332,
     "end_time": "2021-12-22T07:58:33.276926",
     "exception": false,
     "start_time": "2021-12-22T07:58:33.036594",
     "status": "completed"
    },
    "tags": []
   },
   "outputs": [
    {
     "data": {
      "text/html": [
       "<div>\n",
       "<style scoped>\n",
       "    .dataframe tbody tr th:only-of-type {\n",
       "        vertical-align: middle;\n",
       "    }\n",
       "\n",
       "    .dataframe tbody tr th {\n",
       "        vertical-align: top;\n",
       "    }\n",
       "\n",
       "    .dataframe thead th {\n",
       "        text-align: right;\n",
       "    }\n",
       "</style>\n",
       "<table border=\"1\" class=\"dataframe\">\n",
       "  <thead>\n",
       "    <tr style=\"text-align: right;\">\n",
       "      <th></th>\n",
       "      <th>show_id</th>\n",
       "      <th>type</th>\n",
       "      <th>title</th>\n",
       "      <th>director</th>\n",
       "      <th>cast</th>\n",
       "      <th>country</th>\n",
       "      <th>date_added</th>\n",
       "      <th>release_year</th>\n",
       "      <th>rating</th>\n",
       "      <th>duration</th>\n",
       "      <th>listed_in</th>\n",
       "      <th>description</th>\n",
       "    </tr>\n",
       "  </thead>\n",
       "  <tbody>\n",
       "    <tr>\n",
       "      <th>0</th>\n",
       "      <td>s1</td>\n",
       "      <td>Movie</td>\n",
       "      <td>The Grand Seduction</td>\n",
       "      <td>Don McKellar</td>\n",
       "      <td>Brendan Gleeson, Taylor Kitsch, Gordon Pinsent</td>\n",
       "      <td>Canada</td>\n",
       "      <td>March 30, 2021</td>\n",
       "      <td>2014</td>\n",
       "      <td>NaN</td>\n",
       "      <td>113 min</td>\n",
       "      <td>Comedy, Drama</td>\n",
       "      <td>A small fishing village must procure a local d...</td>\n",
       "    </tr>\n",
       "    <tr>\n",
       "      <th>1</th>\n",
       "      <td>s2</td>\n",
       "      <td>Movie</td>\n",
       "      <td>Take Care Good Night</td>\n",
       "      <td>Girish Joshi</td>\n",
       "      <td>Mahesh Manjrekar, Abhay Mahajan, Sachin Khedekar</td>\n",
       "      <td>India</td>\n",
       "      <td>March 30, 2021</td>\n",
       "      <td>2018</td>\n",
       "      <td>13+</td>\n",
       "      <td>110 min</td>\n",
       "      <td>Drama, International</td>\n",
       "      <td>A Metro Family decides to fight a Cyber Crimin...</td>\n",
       "    </tr>\n",
       "    <tr>\n",
       "      <th>2</th>\n",
       "      <td>s3</td>\n",
       "      <td>Movie</td>\n",
       "      <td>Secrets of Deception</td>\n",
       "      <td>Josh Webber</td>\n",
       "      <td>Tom Sizemore, Lorenzo Lamas, Robert LaSardo, R...</td>\n",
       "      <td>United States</td>\n",
       "      <td>March 30, 2021</td>\n",
       "      <td>2017</td>\n",
       "      <td>NaN</td>\n",
       "      <td>74 min</td>\n",
       "      <td>Action, Drama, Suspense</td>\n",
       "      <td>After a man discovers his wife is cheating on ...</td>\n",
       "    </tr>\n",
       "    <tr>\n",
       "      <th>3</th>\n",
       "      <td>s4</td>\n",
       "      <td>Movie</td>\n",
       "      <td>Pink: Staying True</td>\n",
       "      <td>Sonia Anderson</td>\n",
       "      <td>Interviews with: Pink, Adele, Beyoncé, Britney...</td>\n",
       "      <td>United States</td>\n",
       "      <td>March 30, 2021</td>\n",
       "      <td>2014</td>\n",
       "      <td>NaN</td>\n",
       "      <td>69 min</td>\n",
       "      <td>Documentary</td>\n",
       "      <td>Pink breaks the mold once again, bringing her ...</td>\n",
       "    </tr>\n",
       "    <tr>\n",
       "      <th>4</th>\n",
       "      <td>s5</td>\n",
       "      <td>Movie</td>\n",
       "      <td>Monster Maker</td>\n",
       "      <td>Giles Foster</td>\n",
       "      <td>Harry Dean Stanton, Kieran O'Brien, George Cos...</td>\n",
       "      <td>United Kingdom</td>\n",
       "      <td>March 30, 2021</td>\n",
       "      <td>1989</td>\n",
       "      <td>NaN</td>\n",
       "      <td>45 min</td>\n",
       "      <td>Drama, Fantasy</td>\n",
       "      <td>Teenage Matt Banting wants to work with a famo...</td>\n",
       "    </tr>\n",
       "  </tbody>\n",
       "</table>\n",
       "</div>"
      ],
      "text/plain": [
       "  show_id   type                 title        director  \\\n",
       "0      s1  Movie   The Grand Seduction    Don McKellar   \n",
       "1      s2  Movie  Take Care Good Night    Girish Joshi   \n",
       "2      s3  Movie  Secrets of Deception     Josh Webber   \n",
       "3      s4  Movie    Pink: Staying True  Sonia Anderson   \n",
       "4      s5  Movie         Monster Maker    Giles Foster   \n",
       "\n",
       "                                                cast         country  \\\n",
       "0     Brendan Gleeson, Taylor Kitsch, Gordon Pinsent          Canada   \n",
       "1   Mahesh Manjrekar, Abhay Mahajan, Sachin Khedekar           India   \n",
       "2  Tom Sizemore, Lorenzo Lamas, Robert LaSardo, R...   United States   \n",
       "3  Interviews with: Pink, Adele, Beyoncé, Britney...   United States   \n",
       "4  Harry Dean Stanton, Kieran O'Brien, George Cos...  United Kingdom   \n",
       "\n",
       "       date_added  release_year rating duration                listed_in  \\\n",
       "0  March 30, 2021          2014    NaN  113 min            Comedy, Drama   \n",
       "1  March 30, 2021          2018    13+  110 min     Drama, International   \n",
       "2  March 30, 2021          2017    NaN   74 min  Action, Drama, Suspense   \n",
       "3  March 30, 2021          2014    NaN   69 min              Documentary   \n",
       "4  March 30, 2021          1989    NaN   45 min           Drama, Fantasy   \n",
       "\n",
       "                                         description  \n",
       "0  A small fishing village must procure a local d...  \n",
       "1  A Metro Family decides to fight a Cyber Crimin...  \n",
       "2  After a man discovers his wife is cheating on ...  \n",
       "3  Pink breaks the mold once again, bringing her ...  \n",
       "4  Teenage Matt Banting wants to work with a famo...  "
      ]
     },
     "execution_count": 4,
     "metadata": {},
     "output_type": "execute_result"
    }
   ],
   "source": [
    "# Load Amazon Prime Data\n",
    "amznprime = pd.read_csv(\"/kaggle/input/amazon-prime-movies-and-tv-shows/amazon_prime_titles.csv\")\n",
    "amznprime.head()"
   ]
  },
  {
   "cell_type": "code",
   "execution_count": 5,
   "id": "06d9485d",
   "metadata": {
    "execution": {
     "iopub.execute_input": "2021-12-22T07:58:33.347909Z",
     "iopub.status.busy": "2021-12-22T07:58:33.347237Z",
     "iopub.status.idle": "2021-12-22T07:58:33.349882Z",
     "shell.execute_reply": "2021-12-22T07:58:33.350368Z",
     "shell.execute_reply.started": "2021-12-22T07:08:52.041562Z"
    },
    "papermill": {
     "duration": 0.040074,
     "end_time": "2021-12-22T07:58:33.350531",
     "exception": false,
     "start_time": "2021-12-22T07:58:33.310457",
     "status": "completed"
    },
    "tags": []
   },
   "outputs": [
    {
     "data": {
      "text/plain": [
       "(9668, 12)"
      ]
     },
     "execution_count": 5,
     "metadata": {},
     "output_type": "execute_result"
    }
   ],
   "source": [
    "amznprime.shape"
   ]
  },
  {
   "cell_type": "code",
   "execution_count": 6,
   "id": "ed3df346",
   "metadata": {
    "execution": {
     "iopub.execute_input": "2021-12-22T07:58:33.419835Z",
     "iopub.status.busy": "2021-12-22T07:58:33.419051Z",
     "iopub.status.idle": "2021-12-22T07:58:33.457229Z",
     "shell.execute_reply": "2021-12-22T07:58:33.457739Z",
     "shell.execute_reply.started": "2021-12-22T07:08:52.048144Z"
    },
    "papermill": {
     "duration": 0.075446,
     "end_time": "2021-12-22T07:58:33.457934",
     "exception": false,
     "start_time": "2021-12-22T07:58:33.382488",
     "status": "completed"
    },
    "tags": []
   },
   "outputs": [
    {
     "data": {
      "text/html": [
       "<div>\n",
       "<style scoped>\n",
       "    .dataframe tbody tr th:only-of-type {\n",
       "        vertical-align: middle;\n",
       "    }\n",
       "\n",
       "    .dataframe tbody tr th {\n",
       "        vertical-align: top;\n",
       "    }\n",
       "\n",
       "    .dataframe thead th {\n",
       "        text-align: right;\n",
       "    }\n",
       "</style>\n",
       "<table border=\"1\" class=\"dataframe\">\n",
       "  <thead>\n",
       "    <tr style=\"text-align: right;\">\n",
       "      <th></th>\n",
       "      <th>show_id</th>\n",
       "      <th>type</th>\n",
       "      <th>title</th>\n",
       "      <th>director</th>\n",
       "      <th>cast</th>\n",
       "      <th>country</th>\n",
       "      <th>date_added</th>\n",
       "      <th>release_year</th>\n",
       "      <th>rating</th>\n",
       "      <th>duration</th>\n",
       "      <th>listed_in</th>\n",
       "      <th>description</th>\n",
       "    </tr>\n",
       "  </thead>\n",
       "  <tbody>\n",
       "    <tr>\n",
       "      <th>0</th>\n",
       "      <td>s1</td>\n",
       "      <td>Movie</td>\n",
       "      <td>Duck the Halls: A Mickey Mouse Christmas Special</td>\n",
       "      <td>Alonso Ramirez Ramos, Dave Wasson</td>\n",
       "      <td>Chris Diamantopoulos, Tony Anselmo, Tress MacN...</td>\n",
       "      <td>NaN</td>\n",
       "      <td>November 26, 2021</td>\n",
       "      <td>2016</td>\n",
       "      <td>TV-G</td>\n",
       "      <td>23 min</td>\n",
       "      <td>Animation, Family</td>\n",
       "      <td>Join Mickey and the gang as they duck the halls!</td>\n",
       "    </tr>\n",
       "    <tr>\n",
       "      <th>1</th>\n",
       "      <td>s2</td>\n",
       "      <td>Movie</td>\n",
       "      <td>Ernest Saves Christmas</td>\n",
       "      <td>John Cherry</td>\n",
       "      <td>Jim Varney, Noelle Parker, Douglas Seale</td>\n",
       "      <td>NaN</td>\n",
       "      <td>November 26, 2021</td>\n",
       "      <td>1988</td>\n",
       "      <td>PG</td>\n",
       "      <td>91 min</td>\n",
       "      <td>Comedy</td>\n",
       "      <td>Santa Claus passes his magic bag to a new St. ...</td>\n",
       "    </tr>\n",
       "    <tr>\n",
       "      <th>2</th>\n",
       "      <td>s3</td>\n",
       "      <td>Movie</td>\n",
       "      <td>Ice Age: A Mammoth Christmas</td>\n",
       "      <td>Karen Disher</td>\n",
       "      <td>Raymond Albert Romano, John Leguizamo, Denis L...</td>\n",
       "      <td>United States</td>\n",
       "      <td>November 26, 2021</td>\n",
       "      <td>2011</td>\n",
       "      <td>TV-G</td>\n",
       "      <td>23 min</td>\n",
       "      <td>Animation, Comedy, Family</td>\n",
       "      <td>Sid the Sloth is on Santa's naughty list.</td>\n",
       "    </tr>\n",
       "    <tr>\n",
       "      <th>3</th>\n",
       "      <td>s4</td>\n",
       "      <td>Movie</td>\n",
       "      <td>The Queen Family Singalong</td>\n",
       "      <td>Hamish Hamilton</td>\n",
       "      <td>Darren Criss, Adam Lambert, Derek Hough, Alexa...</td>\n",
       "      <td>NaN</td>\n",
       "      <td>November 26, 2021</td>\n",
       "      <td>2021</td>\n",
       "      <td>TV-PG</td>\n",
       "      <td>41 min</td>\n",
       "      <td>Musical</td>\n",
       "      <td>This is real life, not just fantasy!</td>\n",
       "    </tr>\n",
       "    <tr>\n",
       "      <th>4</th>\n",
       "      <td>s5</td>\n",
       "      <td>TV Show</td>\n",
       "      <td>The Beatles: Get Back</td>\n",
       "      <td>NaN</td>\n",
       "      <td>John Lennon, Paul McCartney, George Harrison, ...</td>\n",
       "      <td>NaN</td>\n",
       "      <td>November 25, 2021</td>\n",
       "      <td>2021</td>\n",
       "      <td>NaN</td>\n",
       "      <td>1 Season</td>\n",
       "      <td>Docuseries, Historical, Music</td>\n",
       "      <td>A three-part documentary from Peter Jackson ca...</td>\n",
       "    </tr>\n",
       "  </tbody>\n",
       "</table>\n",
       "</div>"
      ],
      "text/plain": [
       "  show_id     type                                             title  \\\n",
       "0      s1    Movie  Duck the Halls: A Mickey Mouse Christmas Special   \n",
       "1      s2    Movie                            Ernest Saves Christmas   \n",
       "2      s3    Movie                      Ice Age: A Mammoth Christmas   \n",
       "3      s4    Movie                        The Queen Family Singalong   \n",
       "4      s5  TV Show                             The Beatles: Get Back   \n",
       "\n",
       "                            director  \\\n",
       "0  Alonso Ramirez Ramos, Dave Wasson   \n",
       "1                        John Cherry   \n",
       "2                       Karen Disher   \n",
       "3                    Hamish Hamilton   \n",
       "4                                NaN   \n",
       "\n",
       "                                                cast        country  \\\n",
       "0  Chris Diamantopoulos, Tony Anselmo, Tress MacN...            NaN   \n",
       "1           Jim Varney, Noelle Parker, Douglas Seale            NaN   \n",
       "2  Raymond Albert Romano, John Leguizamo, Denis L...  United States   \n",
       "3  Darren Criss, Adam Lambert, Derek Hough, Alexa...            NaN   \n",
       "4  John Lennon, Paul McCartney, George Harrison, ...            NaN   \n",
       "\n",
       "          date_added  release_year rating  duration  \\\n",
       "0  November 26, 2021          2016   TV-G    23 min   \n",
       "1  November 26, 2021          1988     PG    91 min   \n",
       "2  November 26, 2021          2011   TV-G    23 min   \n",
       "3  November 26, 2021          2021  TV-PG    41 min   \n",
       "4  November 25, 2021          2021    NaN  1 Season   \n",
       "\n",
       "                       listed_in  \\\n",
       "0              Animation, Family   \n",
       "1                         Comedy   \n",
       "2      Animation, Comedy, Family   \n",
       "3                        Musical   \n",
       "4  Docuseries, Historical, Music   \n",
       "\n",
       "                                         description  \n",
       "0   Join Mickey and the gang as they duck the halls!  \n",
       "1  Santa Claus passes his magic bag to a new St. ...  \n",
       "2          Sid the Sloth is on Santa's naughty list.  \n",
       "3               This is real life, not just fantasy!  \n",
       "4  A three-part documentary from Peter Jackson ca...  "
      ]
     },
     "execution_count": 6,
     "metadata": {},
     "output_type": "execute_result"
    }
   ],
   "source": [
    "hotstar = pd.read_csv(\"/kaggle/input/disney-movies-and-tv-shows/disney_plus_titles.csv\")\n",
    "hotstar.head()"
   ]
  },
  {
   "cell_type": "code",
   "execution_count": 7,
   "id": "a0f366a1",
   "metadata": {
    "execution": {
     "iopub.execute_input": "2021-12-22T07:58:33.529635Z",
     "iopub.status.busy": "2021-12-22T07:58:33.527585Z",
     "iopub.status.idle": "2021-12-22T07:58:33.532401Z",
     "shell.execute_reply": "2021-12-22T07:58:33.532904Z",
     "shell.execute_reply.started": "2021-12-22T07:08:52.095647Z"
    },
    "papermill": {
     "duration": 0.04214,
     "end_time": "2021-12-22T07:58:33.533078",
     "exception": false,
     "start_time": "2021-12-22T07:58:33.490938",
     "status": "completed"
    },
    "tags": []
   },
   "outputs": [
    {
     "data": {
      "text/plain": [
       "(1450, 12)"
      ]
     },
     "execution_count": 7,
     "metadata": {},
     "output_type": "execute_result"
    }
   ],
   "source": [
    "hotstar.shape"
   ]
  },
  {
   "cell_type": "markdown",
   "id": "75351e26",
   "metadata": {
    "papermill": {
     "duration": 0.033256,
     "end_time": "2021-12-22T07:58:33.599622",
     "exception": false,
     "start_time": "2021-12-22T07:58:33.566366",
     "status": "completed"
    },
    "tags": []
   },
   "source": [
    "We now concatinate all three dataframes as we are building combined recommendation system.\n",
    "* column \"show id\" is common in all dataframes, we will drop it \n",
    "* In final dataframe we want information about on which platform recommended shows are available\n",
    "* We will add one column naming \"platform\" in all dataframes,for example :- **netflix['platform']** containing all values as \"Netflix\" "
   ]
  },
  {
   "cell_type": "code",
   "execution_count": 8,
   "id": "5171d1c9",
   "metadata": {
    "execution": {
     "iopub.execute_input": "2021-12-22T07:58:33.669432Z",
     "iopub.status.busy": "2021-12-22T07:58:33.668755Z",
     "iopub.status.idle": "2021-12-22T07:58:33.682869Z",
     "shell.execute_reply": "2021-12-22T07:58:33.683352Z",
     "shell.execute_reply.started": "2021-12-22T07:08:52.102433Z"
    },
    "papermill": {
     "duration": 0.050622,
     "end_time": "2021-12-22T07:58:33.683538",
     "exception": false,
     "start_time": "2021-12-22T07:58:33.632916",
     "status": "completed"
    },
    "tags": []
   },
   "outputs": [],
   "source": [
    "# Dropping \"show_id\" column\n",
    "netflix.drop(\"show_id\", axis=1, inplace=True)\n",
    "amznprime.drop(\"show_id\",axis=1, inplace=True)\n",
    "hotstar.drop(\"show_id\", axis=1, inplace=True)"
   ]
  },
  {
   "cell_type": "code",
   "execution_count": 9,
   "id": "7864887a",
   "metadata": {
    "execution": {
     "iopub.execute_input": "2021-12-22T07:58:33.759624Z",
     "iopub.status.busy": "2021-12-22T07:58:33.757014Z",
     "iopub.status.idle": "2021-12-22T07:58:33.762793Z",
     "shell.execute_reply": "2021-12-22T07:58:33.763326Z",
     "shell.execute_reply.started": "2021-12-22T07:08:52.121979Z"
    },
    "papermill": {
     "duration": 0.046453,
     "end_time": "2021-12-22T07:58:33.763500",
     "exception": false,
     "start_time": "2021-12-22T07:58:33.717047",
     "status": "completed"
    },
    "tags": []
   },
   "outputs": [],
   "source": [
    "# adding \"platform\" column to respective dataframe\n",
    "\n",
    "netflix['platform'] = \"Netflix\"\n",
    "amznprime['platform'] = \"Amazon Prime\"\n",
    "hotstar['platform'] = \"Disney+ Hotstar\""
   ]
  },
  {
   "cell_type": "code",
   "execution_count": 10,
   "id": "9550e4e8",
   "metadata": {
    "execution": {
     "iopub.execute_input": "2021-12-22T07:58:33.834653Z",
     "iopub.status.busy": "2021-12-22T07:58:33.834033Z",
     "iopub.status.idle": "2021-12-22T07:58:33.848961Z",
     "shell.execute_reply": "2021-12-22T07:58:33.849444Z",
     "shell.execute_reply.started": "2021-12-22T07:08:52.135215Z"
    },
    "papermill": {
     "duration": 0.052554,
     "end_time": "2021-12-22T07:58:33.849622",
     "exception": false,
     "start_time": "2021-12-22T07:58:33.797068",
     "status": "completed"
    },
    "tags": []
   },
   "outputs": [
    {
     "data": {
      "text/plain": [
       "(19925, 12)"
      ]
     },
     "execution_count": 10,
     "metadata": {},
     "output_type": "execute_result"
    }
   ],
   "source": [
    "## creating final Dataframe\n",
    "df = pd.concat([netflix, amznprime, hotstar], ignore_index=True)\n",
    "df.shape"
   ]
  },
  {
   "cell_type": "code",
   "execution_count": 11,
   "id": "93505c54",
   "metadata": {
    "execution": {
     "iopub.execute_input": "2021-12-22T07:58:33.920954Z",
     "iopub.status.busy": "2021-12-22T07:58:33.920298Z",
     "iopub.status.idle": "2021-12-22T07:58:33.935575Z",
     "shell.execute_reply": "2021-12-22T07:58:33.936105Z",
     "shell.execute_reply.started": "2021-12-22T07:08:52.155489Z"
    },
    "papermill": {
     "duration": 0.053244,
     "end_time": "2021-12-22T07:58:33.936274",
     "exception": false,
     "start_time": "2021-12-22T07:58:33.883030",
     "status": "completed"
    },
    "tags": []
   },
   "outputs": [
    {
     "data": {
      "text/html": [
       "<div>\n",
       "<style scoped>\n",
       "    .dataframe tbody tr th:only-of-type {\n",
       "        vertical-align: middle;\n",
       "    }\n",
       "\n",
       "    .dataframe tbody tr th {\n",
       "        vertical-align: top;\n",
       "    }\n",
       "\n",
       "    .dataframe thead th {\n",
       "        text-align: right;\n",
       "    }\n",
       "</style>\n",
       "<table border=\"1\" class=\"dataframe\">\n",
       "  <thead>\n",
       "    <tr style=\"text-align: right;\">\n",
       "      <th></th>\n",
       "      <th>type</th>\n",
       "      <th>title</th>\n",
       "      <th>director</th>\n",
       "      <th>cast</th>\n",
       "      <th>country</th>\n",
       "      <th>date_added</th>\n",
       "      <th>release_year</th>\n",
       "      <th>rating</th>\n",
       "      <th>duration</th>\n",
       "      <th>listed_in</th>\n",
       "      <th>description</th>\n",
       "      <th>platform</th>\n",
       "    </tr>\n",
       "  </thead>\n",
       "  <tbody>\n",
       "    <tr>\n",
       "      <th>19920</th>\n",
       "      <td>Movie</td>\n",
       "      <td>X-Men Origins: Wolverine</td>\n",
       "      <td>Gavin Hood</td>\n",
       "      <td>Hugh Jackman, Liev Schreiber, Danny Huston, wi...</td>\n",
       "      <td>United States, United Kingdom</td>\n",
       "      <td>June 4, 2021</td>\n",
       "      <td>2009</td>\n",
       "      <td>PG-13</td>\n",
       "      <td>108 min</td>\n",
       "      <td>Action-Adventure, Family, Science Fiction</td>\n",
       "      <td>Wolverine unites with legendary X-Men to fight...</td>\n",
       "      <td>Disney+ Hotstar</td>\n",
       "    </tr>\n",
       "    <tr>\n",
       "      <th>19921</th>\n",
       "      <td>Movie</td>\n",
       "      <td>Night at the Museum: Battle of the Smithsonian</td>\n",
       "      <td>Shawn Levy</td>\n",
       "      <td>Ben Stiller, Amy Adams, Owen Wilson, Hank Azar...</td>\n",
       "      <td>United States, Canada</td>\n",
       "      <td>April 2, 2021</td>\n",
       "      <td>2009</td>\n",
       "      <td>PG</td>\n",
       "      <td>106 min</td>\n",
       "      <td>Action-Adventure, Comedy, Family</td>\n",
       "      <td>Larry Daley returns to rescue some old friends...</td>\n",
       "      <td>Disney+ Hotstar</td>\n",
       "    </tr>\n",
       "    <tr>\n",
       "      <th>19922</th>\n",
       "      <td>Movie</td>\n",
       "      <td>Eddie the Eagle</td>\n",
       "      <td>Dexter Fletcher</td>\n",
       "      <td>Tom Costello, Jo Hartley, Keith Allen, Dickon ...</td>\n",
       "      <td>United Kingdom, Germany, United States</td>\n",
       "      <td>December 18, 2020</td>\n",
       "      <td>2016</td>\n",
       "      <td>PG-13</td>\n",
       "      <td>107 min</td>\n",
       "      <td>Biographical, Comedy, Drama</td>\n",
       "      <td>True story of Eddie Edwards, a British ski-jum...</td>\n",
       "      <td>Disney+ Hotstar</td>\n",
       "    </tr>\n",
       "    <tr>\n",
       "      <th>19923</th>\n",
       "      <td>Movie</td>\n",
       "      <td>Bend It Like Beckham</td>\n",
       "      <td>Gurinder Chadha</td>\n",
       "      <td>Parminder Nagra, Keira Knightley, Jonathan Rhy...</td>\n",
       "      <td>United Kingdom, Germany, United States</td>\n",
       "      <td>September 18, 2020</td>\n",
       "      <td>2003</td>\n",
       "      <td>PG-13</td>\n",
       "      <td>112 min</td>\n",
       "      <td>Buddy, Comedy, Coming of Age</td>\n",
       "      <td>Despite the wishes of their traditional famili...</td>\n",
       "      <td>Disney+ Hotstar</td>\n",
       "    </tr>\n",
       "    <tr>\n",
       "      <th>19924</th>\n",
       "      <td>Movie</td>\n",
       "      <td>Captain Sparky vs. The Flying Saucers</td>\n",
       "      <td>Mark Waring</td>\n",
       "      <td>Charlie Tahan</td>\n",
       "      <td>United States</td>\n",
       "      <td>April 1, 2020</td>\n",
       "      <td>2012</td>\n",
       "      <td>TV-G</td>\n",
       "      <td>2 min</td>\n",
       "      <td>Action-Adventure, Animals &amp; Nature, Animation</td>\n",
       "      <td>View one of Sparky's favorite home movies.</td>\n",
       "      <td>Disney+ Hotstar</td>\n",
       "    </tr>\n",
       "  </tbody>\n",
       "</table>\n",
       "</div>"
      ],
      "text/plain": [
       "        type                                           title         director  \\\n",
       "19920  Movie                        X-Men Origins: Wolverine       Gavin Hood   \n",
       "19921  Movie  Night at the Museum: Battle of the Smithsonian       Shawn Levy   \n",
       "19922  Movie                                 Eddie the Eagle  Dexter Fletcher   \n",
       "19923  Movie                            Bend It Like Beckham  Gurinder Chadha   \n",
       "19924  Movie           Captain Sparky vs. The Flying Saucers      Mark Waring   \n",
       "\n",
       "                                                    cast  \\\n",
       "19920  Hugh Jackman, Liev Schreiber, Danny Huston, wi...   \n",
       "19921  Ben Stiller, Amy Adams, Owen Wilson, Hank Azar...   \n",
       "19922  Tom Costello, Jo Hartley, Keith Allen, Dickon ...   \n",
       "19923  Parminder Nagra, Keira Knightley, Jonathan Rhy...   \n",
       "19924                                      Charlie Tahan   \n",
       "\n",
       "                                      country          date_added  \\\n",
       "19920           United States, United Kingdom        June 4, 2021   \n",
       "19921                   United States, Canada       April 2, 2021   \n",
       "19922  United Kingdom, Germany, United States   December 18, 2020   \n",
       "19923  United Kingdom, Germany, United States  September 18, 2020   \n",
       "19924                           United States       April 1, 2020   \n",
       "\n",
       "       release_year rating duration  \\\n",
       "19920          2009  PG-13  108 min   \n",
       "19921          2009     PG  106 min   \n",
       "19922          2016  PG-13  107 min   \n",
       "19923          2003  PG-13  112 min   \n",
       "19924          2012   TV-G    2 min   \n",
       "\n",
       "                                           listed_in  \\\n",
       "19920      Action-Adventure, Family, Science Fiction   \n",
       "19921               Action-Adventure, Comedy, Family   \n",
       "19922                    Biographical, Comedy, Drama   \n",
       "19923                   Buddy, Comedy, Coming of Age   \n",
       "19924  Action-Adventure, Animals & Nature, Animation   \n",
       "\n",
       "                                             description         platform  \n",
       "19920  Wolverine unites with legendary X-Men to fight...  Disney+ Hotstar  \n",
       "19921  Larry Daley returns to rescue some old friends...  Disney+ Hotstar  \n",
       "19922  True story of Eddie Edwards, a British ski-jum...  Disney+ Hotstar  \n",
       "19923  Despite the wishes of their traditional famili...  Disney+ Hotstar  \n",
       "19924         View one of Sparky's favorite home movies.  Disney+ Hotstar  "
      ]
     },
     "execution_count": 11,
     "metadata": {},
     "output_type": "execute_result"
    }
   ],
   "source": [
    "df.tail()"
   ]
  },
  {
   "cell_type": "markdown",
   "id": "e7b20337",
   "metadata": {
    "papermill": {
     "duration": 0.033776,
     "end_time": "2021-12-22T07:58:34.004288",
     "exception": false,
     "start_time": "2021-12-22T07:58:33.970512",
     "status": "completed"
    },
    "tags": []
   },
   "source": [
    "# Analysis of final Dataframe"
   ]
  },
  {
   "cell_type": "code",
   "execution_count": 12,
   "id": "c1a8e387",
   "metadata": {
    "execution": {
     "iopub.execute_input": "2021-12-22T07:58:34.080486Z",
     "iopub.status.busy": "2021-12-22T07:58:34.079834Z",
     "iopub.status.idle": "2021-12-22T07:58:34.085098Z",
     "shell.execute_reply": "2021-12-22T07:58:34.084489Z",
     "shell.execute_reply.started": "2021-12-22T07:08:52.177013Z"
    },
    "papermill": {
     "duration": 0.04542,
     "end_time": "2021-12-22T07:58:34.085241",
     "exception": false,
     "start_time": "2021-12-22T07:58:34.039821",
     "status": "completed"
    },
    "tags": []
   },
   "outputs": [
    {
     "data": {
      "text/plain": [
       "array(['Movie', 'TV Show'], dtype=object)"
      ]
     },
     "execution_count": 12,
     "metadata": {},
     "output_type": "execute_result"
    }
   ],
   "source": [
    "# Type of content available\n",
    "df.type.unique()"
   ]
  },
  {
   "cell_type": "code",
   "execution_count": 13,
   "id": "166f840f",
   "metadata": {
    "execution": {
     "iopub.execute_input": "2021-12-22T07:58:34.179607Z",
     "iopub.status.busy": "2021-12-22T07:58:34.169811Z",
     "iopub.status.idle": "2021-12-22T07:58:34.192546Z",
     "shell.execute_reply": "2021-12-22T07:58:34.193067Z",
     "shell.execute_reply.started": "2021-12-22T07:08:52.186855Z"
    },
    "papermill": {
     "duration": 0.073529,
     "end_time": "2021-12-22T07:58:34.193243",
     "exception": false,
     "start_time": "2021-12-22T07:58:34.119714",
     "status": "completed"
    },
    "tags": []
   },
   "outputs": [
    {
     "data": {
      "text/plain": [
       "type                0\n",
       "title               0\n",
       "director         5189\n",
       "cast             2248\n",
       "country         10046\n",
       "date_added       9526\n",
       "release_year        0\n",
       "rating            344\n",
       "duration            3\n",
       "listed_in           0\n",
       "description         0\n",
       "platform            0\n",
       "dtype: int64"
      ]
     },
     "execution_count": 13,
     "metadata": {},
     "output_type": "execute_result"
    }
   ],
   "source": [
    "# misssing values\n",
    "df.isnull().sum()"
   ]
  },
  {
   "cell_type": "code",
   "execution_count": 14,
   "id": "beca8a8b",
   "metadata": {
    "execution": {
     "iopub.execute_input": "2021-12-22T07:58:34.282290Z",
     "iopub.status.busy": "2021-12-22T07:58:34.281579Z",
     "iopub.status.idle": "2021-12-22T07:58:34.308400Z",
     "shell.execute_reply": "2021-12-22T07:58:34.307645Z",
     "shell.execute_reply.started": "2021-12-22T07:08:52.227173Z"
    },
    "papermill": {
     "duration": 0.080143,
     "end_time": "2021-12-22T07:58:34.308548",
     "exception": false,
     "start_time": "2021-12-22T07:58:34.228405",
     "status": "completed"
    },
    "tags": []
   },
   "outputs": [
    {
     "name": "stdout",
     "output_type": "stream",
     "text": [
      "<class 'pandas.core.frame.DataFrame'>\n",
      "RangeIndex: 19925 entries, 0 to 19924\n",
      "Data columns (total 12 columns):\n",
      " #   Column        Non-Null Count  Dtype \n",
      "---  ------        --------------  ----- \n",
      " 0   type          19925 non-null  object\n",
      " 1   title         19925 non-null  object\n",
      " 2   director      14736 non-null  object\n",
      " 3   cast          17677 non-null  object\n",
      " 4   country       9879 non-null   object\n",
      " 5   date_added    10399 non-null  object\n",
      " 6   release_year  19925 non-null  int64 \n",
      " 7   rating        19581 non-null  object\n",
      " 8   duration      19922 non-null  object\n",
      " 9   listed_in     19925 non-null  object\n",
      " 10  description   19925 non-null  object\n",
      " 11  platform      19925 non-null  object\n",
      "dtypes: int64(1), object(11)\n",
      "memory usage: 1.8+ MB\n"
     ]
    }
   ],
   "source": [
    "df.info()"
   ]
  },
  {
   "cell_type": "code",
   "execution_count": 15,
   "id": "a5727223",
   "metadata": {
    "execution": {
     "iopub.execute_input": "2021-12-22T07:58:34.408834Z",
     "iopub.status.busy": "2021-12-22T07:58:34.407978Z",
     "iopub.status.idle": "2021-12-22T07:58:34.411467Z",
     "shell.execute_reply": "2021-12-22T07:58:34.411989Z",
     "shell.execute_reply.started": "2021-12-22T07:08:52.269778Z"
    },
    "papermill": {
     "duration": 0.067964,
     "end_time": "2021-12-22T07:58:34.412167",
     "exception": false,
     "start_time": "2021-12-22T07:58:34.344203",
     "status": "completed"
    },
    "tags": []
   },
   "outputs": [
    {
     "data": {
      "text/html": [
       "<div>\n",
       "<style scoped>\n",
       "    .dataframe tbody tr th:only-of-type {\n",
       "        vertical-align: middle;\n",
       "    }\n",
       "\n",
       "    .dataframe tbody tr th {\n",
       "        vertical-align: top;\n",
       "    }\n",
       "\n",
       "    .dataframe thead th {\n",
       "        text-align: right;\n",
       "    }\n",
       "</style>\n",
       "<table border=\"1\" class=\"dataframe\">\n",
       "  <thead>\n",
       "    <tr style=\"text-align: right;\">\n",
       "      <th></th>\n",
       "      <th>type</th>\n",
       "      <th>title</th>\n",
       "      <th>director</th>\n",
       "      <th>cast</th>\n",
       "      <th>country</th>\n",
       "      <th>date_added</th>\n",
       "      <th>release_year</th>\n",
       "      <th>duration</th>\n",
       "      <th>listed_in</th>\n",
       "      <th>description</th>\n",
       "      <th>platform</th>\n",
       "    </tr>\n",
       "  </thead>\n",
       "  <tbody>\n",
       "    <tr>\n",
       "      <th>0</th>\n",
       "      <td>Movie</td>\n",
       "      <td>Dick Johnson Is Dead</td>\n",
       "      <td>Kirsten Johnson</td>\n",
       "      <td>NaN</td>\n",
       "      <td>United States</td>\n",
       "      <td>September 25, 2021</td>\n",
       "      <td>2020</td>\n",
       "      <td>90 min</td>\n",
       "      <td>Documentaries</td>\n",
       "      <td>As her father nears the end of his life, filmm...</td>\n",
       "      <td>Netflix</td>\n",
       "    </tr>\n",
       "    <tr>\n",
       "      <th>1</th>\n",
       "      <td>TV Show</td>\n",
       "      <td>Blood &amp; Water</td>\n",
       "      <td>NaN</td>\n",
       "      <td>Ama Qamata, Khosi Ngema, Gail Mabalane, Thaban...</td>\n",
       "      <td>South Africa</td>\n",
       "      <td>September 24, 2021</td>\n",
       "      <td>2021</td>\n",
       "      <td>2 Seasons</td>\n",
       "      <td>International TV Shows, TV Dramas, TV Mysteries</td>\n",
       "      <td>After crossing paths at a party, a Cape Town t...</td>\n",
       "      <td>Netflix</td>\n",
       "    </tr>\n",
       "    <tr>\n",
       "      <th>2</th>\n",
       "      <td>TV Show</td>\n",
       "      <td>Ganglands</td>\n",
       "      <td>Julien Leclercq</td>\n",
       "      <td>Sami Bouajila, Tracy Gotoas, Samuel Jouy, Nabi...</td>\n",
       "      <td>NaN</td>\n",
       "      <td>September 24, 2021</td>\n",
       "      <td>2021</td>\n",
       "      <td>1 Season</td>\n",
       "      <td>Crime TV Shows, International TV Shows, TV Act...</td>\n",
       "      <td>To protect his family from a powerful drug lor...</td>\n",
       "      <td>Netflix</td>\n",
       "    </tr>\n",
       "    <tr>\n",
       "      <th>3</th>\n",
       "      <td>TV Show</td>\n",
       "      <td>Jailbirds New Orleans</td>\n",
       "      <td>NaN</td>\n",
       "      <td>NaN</td>\n",
       "      <td>NaN</td>\n",
       "      <td>September 24, 2021</td>\n",
       "      <td>2021</td>\n",
       "      <td>1 Season</td>\n",
       "      <td>Docuseries, Reality TV</td>\n",
       "      <td>Feuds, flirtations and toilet talk go down amo...</td>\n",
       "      <td>Netflix</td>\n",
       "    </tr>\n",
       "    <tr>\n",
       "      <th>4</th>\n",
       "      <td>TV Show</td>\n",
       "      <td>Kota Factory</td>\n",
       "      <td>NaN</td>\n",
       "      <td>Mayur More, Jitendra Kumar, Ranjan Raj, Alam K...</td>\n",
       "      <td>India</td>\n",
       "      <td>September 24, 2021</td>\n",
       "      <td>2021</td>\n",
       "      <td>2 Seasons</td>\n",
       "      <td>International TV Shows, Romantic TV Shows, TV ...</td>\n",
       "      <td>In a city of coaching centers known to train I...</td>\n",
       "      <td>Netflix</td>\n",
       "    </tr>\n",
       "  </tbody>\n",
       "</table>\n",
       "</div>"
      ],
      "text/plain": [
       "      type                  title         director  \\\n",
       "0    Movie   Dick Johnson Is Dead  Kirsten Johnson   \n",
       "1  TV Show          Blood & Water              NaN   \n",
       "2  TV Show              Ganglands  Julien Leclercq   \n",
       "3  TV Show  Jailbirds New Orleans              NaN   \n",
       "4  TV Show           Kota Factory              NaN   \n",
       "\n",
       "                                                cast        country  \\\n",
       "0                                                NaN  United States   \n",
       "1  Ama Qamata, Khosi Ngema, Gail Mabalane, Thaban...   South Africa   \n",
       "2  Sami Bouajila, Tracy Gotoas, Samuel Jouy, Nabi...            NaN   \n",
       "3                                                NaN            NaN   \n",
       "4  Mayur More, Jitendra Kumar, Ranjan Raj, Alam K...          India   \n",
       "\n",
       "           date_added  release_year   duration  \\\n",
       "0  September 25, 2021          2020     90 min   \n",
       "1  September 24, 2021          2021  2 Seasons   \n",
       "2  September 24, 2021          2021   1 Season   \n",
       "3  September 24, 2021          2021   1 Season   \n",
       "4  September 24, 2021          2021  2 Seasons   \n",
       "\n",
       "                                           listed_in  \\\n",
       "0                                      Documentaries   \n",
       "1    International TV Shows, TV Dramas, TV Mysteries   \n",
       "2  Crime TV Shows, International TV Shows, TV Act...   \n",
       "3                             Docuseries, Reality TV   \n",
       "4  International TV Shows, Romantic TV Shows, TV ...   \n",
       "\n",
       "                                         description platform  \n",
       "0  As her father nears the end of his life, filmm...  Netflix  \n",
       "1  After crossing paths at a party, a Cape Town t...  Netflix  \n",
       "2  To protect his family from a powerful drug lor...  Netflix  \n",
       "3  Feuds, flirtations and toilet talk go down amo...  Netflix  \n",
       "4  In a city of coaching centers known to train I...  Netflix  "
      ]
     },
     "execution_count": 15,
     "metadata": {},
     "output_type": "execute_result"
    }
   ],
   "source": [
    "# we need to create new Data frame according to features required for recommendation\n",
    "newdf = df.drop('rating', axis=1)\n",
    "newdf.head()"
   ]
  },
  {
   "cell_type": "code",
   "execution_count": 16,
   "id": "36b8ede2",
   "metadata": {
    "execution": {
     "iopub.execute_input": "2021-12-22T07:58:34.513833Z",
     "iopub.status.busy": "2021-12-22T07:58:34.512748Z",
     "iopub.status.idle": "2021-12-22T07:58:34.521845Z",
     "shell.execute_reply": "2021-12-22T07:58:34.522360Z",
     "shell.execute_reply.started": "2021-12-22T07:08:52.303780Z"
    },
    "papermill": {
     "duration": 0.074196,
     "end_time": "2021-12-22T07:58:34.522546",
     "exception": false,
     "start_time": "2021-12-22T07:58:34.448350",
     "status": "completed"
    },
    "tags": []
   },
   "outputs": [
    {
     "data": {
      "text/plain": [
       "(6151, 12)"
      ]
     },
     "execution_count": 16,
     "metadata": {},
     "output_type": "execute_result"
    }
   ],
   "source": [
    "dropped_nan = df.dropna()\n",
    "dropped_nan.shape"
   ]
  },
  {
   "cell_type": "markdown",
   "id": "11cc3834",
   "metadata": {
    "papermill": {
     "duration": 0.043063,
     "end_time": "2021-12-22T07:58:34.601915",
     "exception": false,
     "start_time": "2021-12-22T07:58:34.558852",
     "status": "completed"
    },
    "tags": []
   },
   "source": [
    "We have large number of entries with missing values\n",
    "dropping them will result in loss of information"
   ]
  },
  {
   "cell_type": "code",
   "execution_count": 17,
   "id": "4006acd9",
   "metadata": {
    "execution": {
     "iopub.execute_input": "2021-12-22T07:58:34.694610Z",
     "iopub.status.busy": "2021-12-22T07:58:34.693597Z",
     "iopub.status.idle": "2021-12-22T07:58:34.712747Z",
     "shell.execute_reply": "2021-12-22T07:58:34.713291Z",
     "shell.execute_reply.started": "2021-12-22T07:08:52.341258Z"
    },
    "papermill": {
     "duration": 0.060852,
     "end_time": "2021-12-22T07:58:34.713466",
     "exception": false,
     "start_time": "2021-12-22T07:58:34.652614",
     "status": "completed"
    },
    "tags": []
   },
   "outputs": [],
   "source": [
    "# removing spaces between individual terms in entries\n",
    "# for ex \"\"\n",
    "newdf['director']=newdf['director'].apply(lambda x: str(x).replace(\" \",\"\"))"
   ]
  },
  {
   "cell_type": "code",
   "execution_count": 18,
   "id": "f0a2661f",
   "metadata": {
    "execution": {
     "iopub.execute_input": "2021-12-22T07:58:34.800586Z",
     "iopub.status.busy": "2021-12-22T07:58:34.795316Z",
     "iopub.status.idle": "2021-12-22T07:58:34.890887Z",
     "shell.execute_reply": "2021-12-22T07:58:34.889926Z",
     "shell.execute_reply.started": "2021-12-22T07:08:52.362426Z"
    },
    "papermill": {
     "duration": 0.136782,
     "end_time": "2021-12-22T07:58:34.891045",
     "exception": false,
     "start_time": "2021-12-22T07:58:34.754263",
     "status": "completed"
    },
    "tags": []
   },
   "outputs": [],
   "source": [
    "newdf['cast']=newdf['cast'].apply(lambda x: str(x).replace(\" \",\"\"))\n",
    "newdf['country']=newdf['country'].apply(lambda x: str(x).replace(\" \",\"\"))\n",
    "newdf['listed_in']=newdf['listed_in'].apply(lambda x: str(x).replace(\" \",\"\"))"
   ]
  },
  {
   "cell_type": "code",
   "execution_count": 19,
   "id": "3afed9d2",
   "metadata": {
    "execution": {
     "iopub.execute_input": "2021-12-22T07:58:34.983374Z",
     "iopub.status.busy": "2021-12-22T07:58:34.982636Z",
     "iopub.status.idle": "2021-12-22T07:58:35.000350Z",
     "shell.execute_reply": "2021-12-22T07:58:35.000882Z",
     "shell.execute_reply.started": "2021-12-22T07:08:52.426628Z"
    },
    "papermill": {
     "duration": 0.06702,
     "end_time": "2021-12-22T07:58:35.001080",
     "exception": false,
     "start_time": "2021-12-22T07:58:34.934060",
     "status": "completed"
    },
    "tags": []
   },
   "outputs": [],
   "source": [
    "newdf['type']=newdf['type'].apply(lambda x: str(x).replace(\" \",\"\"))"
   ]
  },
  {
   "cell_type": "code",
   "execution_count": 20,
   "id": "76273a79",
   "metadata": {
    "execution": {
     "iopub.execute_input": "2021-12-22T07:58:35.097650Z",
     "iopub.status.busy": "2021-12-22T07:58:35.096614Z",
     "iopub.status.idle": "2021-12-22T07:58:35.282764Z",
     "shell.execute_reply": "2021-12-22T07:58:35.283258Z",
     "shell.execute_reply.started": "2021-12-22T07:08:52.443578Z"
    },
    "papermill": {
     "duration": 0.24582,
     "end_time": "2021-12-22T07:58:35.283446",
     "exception": false,
     "start_time": "2021-12-22T07:58:35.037626",
     "status": "completed"
    },
    "tags": []
   },
   "outputs": [],
   "source": [
    "# creating list of words in each string available in 'description' column\n",
    "\n",
    "newdf['description']=newdf['description'].apply(lambda x:x.split())"
   ]
  },
  {
   "cell_type": "code",
   "execution_count": 21,
   "id": "d135b27d",
   "metadata": {
    "execution": {
     "iopub.execute_input": "2021-12-22T07:58:35.362512Z",
     "iopub.status.busy": "2021-12-22T07:58:35.361502Z",
     "iopub.status.idle": "2021-12-22T07:58:35.585167Z",
     "shell.execute_reply": "2021-12-22T07:58:35.584363Z",
     "shell.execute_reply.started": "2021-12-22T07:08:52.659911Z"
    },
    "papermill": {
     "duration": 0.265366,
     "end_time": "2021-12-22T07:58:35.585341",
     "exception": false,
     "start_time": "2021-12-22T07:58:35.319975",
     "status": "completed"
    },
    "tags": []
   },
   "outputs": [],
   "source": [
    "# converting all rows to list\n",
    "newdf['type']=newdf['type'].apply(lambda x:list(x.split(\" \")))\n",
    "newdf['listed_in']=newdf['listed_in'].apply(lambda x:list(x.split(\" \")))\n",
    "newdf['director'] = newdf['director'].apply(lambda x:list(x.split(\" \")))\n",
    "newdf['cast'] = newdf['cast'].apply(lambda x:list(x.split(\" \")))\n",
    "newdf['country'] = newdf['country'].apply(lambda x:list(x.split(\" \")))\n",
    "newdf['release_year'] =newdf['release_year'].apply(lambda x:list(str(x).split(\" \")))"
   ]
  },
  {
   "cell_type": "code",
   "execution_count": 22,
   "id": "1f6dae28",
   "metadata": {
    "execution": {
     "iopub.execute_input": "2021-12-22T07:58:35.810869Z",
     "iopub.status.busy": "2021-12-22T07:58:35.666940Z",
     "iopub.status.idle": "2021-12-22T07:58:35.871881Z",
     "shell.execute_reply": "2021-12-22T07:58:35.872387Z",
     "shell.execute_reply.started": "2021-12-22T07:08:52.882585Z"
    },
    "papermill": {
     "duration": 0.250858,
     "end_time": "2021-12-22T07:58:35.872575",
     "exception": false,
     "start_time": "2021-12-22T07:58:35.621717",
     "status": "completed"
    },
    "tags": []
   },
   "outputs": [],
   "source": [
    "# creating new column for tags\n",
    "newdf['tags'] = newdf['type']+newdf['director']+newdf['cast']+newdf['country']+newdf['release_year']+newdf['listed_in']+newdf['description']"
   ]
  },
  {
   "cell_type": "code",
   "execution_count": 23,
   "id": "59b9cba8",
   "metadata": {
    "execution": {
     "iopub.execute_input": "2021-12-22T07:58:35.965231Z",
     "iopub.status.busy": "2021-12-22T07:58:35.948417Z",
     "iopub.status.idle": "2021-12-22T07:58:35.968520Z",
     "shell.execute_reply": "2021-12-22T07:58:35.967986Z",
     "shell.execute_reply.started": "2021-12-22T07:08:53.087839Z"
    },
    "papermill": {
     "duration": 0.06003,
     "end_time": "2021-12-22T07:58:35.968670",
     "exception": false,
     "start_time": "2021-12-22T07:58:35.908640",
     "status": "completed"
    },
    "tags": []
   },
   "outputs": [],
   "source": [
    "# we have lot of entries with \"nan\" values, remove those values from tag list\n",
    "for row in newdf['tags']:\n",
    "    if \"nan\" in row:\n",
    "        row.remove(\"nan\")"
   ]
  },
  {
   "cell_type": "code",
   "execution_count": 24,
   "id": "b69bf8dc",
   "metadata": {
    "execution": {
     "iopub.execute_input": "2021-12-22T07:58:36.047997Z",
     "iopub.status.busy": "2021-12-22T07:58:36.047244Z",
     "iopub.status.idle": "2021-12-22T07:58:36.103007Z",
     "shell.execute_reply": "2021-12-22T07:58:36.103519Z",
     "shell.execute_reply.started": "2021-12-22T07:08:53.106842Z"
    },
    "papermill": {
     "duration": 0.098896,
     "end_time": "2021-12-22T07:58:36.103734",
     "exception": false,
     "start_time": "2021-12-22T07:58:36.004838",
     "status": "completed"
    },
    "tags": []
   },
   "outputs": [],
   "source": [
    "# to form vectors we need strings, so convert list of tags to string\n",
    "newdf['tags']=newdf['tags'].apply(lambda x:\" \".join(x))"
   ]
  },
  {
   "cell_type": "code",
   "execution_count": 25,
   "id": "2fca08f3",
   "metadata": {
    "execution": {
     "iopub.execute_input": "2021-12-22T07:58:36.180845Z",
     "iopub.status.busy": "2021-12-22T07:58:36.179802Z",
     "iopub.status.idle": "2021-12-22T07:58:37.168384Z",
     "shell.execute_reply": "2021-12-22T07:58:37.167708Z",
     "shell.execute_reply.started": "2021-12-22T07:08:53.167728Z"
    },
    "papermill": {
     "duration": 1.028331,
     "end_time": "2021-12-22T07:58:37.168540",
     "exception": false,
     "start_time": "2021-12-22T07:58:36.140209",
     "status": "completed"
    },
    "tags": []
   },
   "outputs": [],
   "source": [
    "from sklearn.feature_extraction.text import TfidfVectorizer"
   ]
  },
  {
   "cell_type": "code",
   "execution_count": 26,
   "id": "87c33b1e",
   "metadata": {
    "execution": {
     "iopub.execute_input": "2021-12-22T07:58:37.246727Z",
     "iopub.status.busy": "2021-12-22T07:58:37.245817Z",
     "iopub.status.idle": "2021-12-22T07:58:37.248625Z",
     "shell.execute_reply": "2021-12-22T07:58:37.248110Z",
     "shell.execute_reply.started": "2021-12-22T07:08:54.052117Z"
    },
    "papermill": {
     "duration": 0.044156,
     "end_time": "2021-12-22T07:58:37.248795",
     "exception": false,
     "start_time": "2021-12-22T07:58:37.204639",
     "status": "completed"
    },
    "tags": []
   },
   "outputs": [],
   "source": [
    "# create instance of TFIDF vectorizer with stopwords in \"english\" language \n",
    "#so that vectors will be formed without frequent stopwords\n",
    "tv = TfidfVectorizer(max_features=30000,stop_words=\"english\")"
   ]
  },
  {
   "cell_type": "code",
   "execution_count": 27,
   "id": "6766a838",
   "metadata": {
    "execution": {
     "iopub.execute_input": "2021-12-22T07:58:37.344843Z",
     "iopub.status.busy": "2021-12-22T07:58:37.339507Z",
     "iopub.status.idle": "2021-12-22T07:58:40.919992Z",
     "shell.execute_reply": "2021-12-22T07:58:40.919356Z",
     "shell.execute_reply.started": "2021-12-22T07:08:54.057591Z"
    },
    "papermill": {
     "duration": 3.635257,
     "end_time": "2021-12-22T07:58:40.920138",
     "exception": false,
     "start_time": "2021-12-22T07:58:37.284881",
     "status": "completed"
    },
    "tags": []
   },
   "outputs": [],
   "source": [
    "# create vectors and storing them into array\n",
    "vectors = tv.fit_transform(newdf['tags']).toarray()"
   ]
  },
  {
   "cell_type": "code",
   "execution_count": 28,
   "id": "14474c21",
   "metadata": {
    "execution": {
     "iopub.execute_input": "2021-12-22T07:58:40.996844Z",
     "iopub.status.busy": "2021-12-22T07:58:40.996200Z",
     "iopub.status.idle": "2021-12-22T07:58:41.001948Z",
     "shell.execute_reply": "2021-12-22T07:58:41.001435Z",
     "shell.execute_reply.started": "2021-12-22T07:08:57.849601Z"
    },
    "papermill": {
     "duration": 0.045193,
     "end_time": "2021-12-22T07:58:41.002087",
     "exception": false,
     "start_time": "2021-12-22T07:58:40.956894",
     "status": "completed"
    },
    "tags": []
   },
   "outputs": [
    {
     "data": {
      "text/plain": [
       "(19925, 30000)"
      ]
     },
     "execution_count": 28,
     "metadata": {},
     "output_type": "execute_result"
    }
   ],
   "source": [
    "vectors.shape"
   ]
  },
  {
   "cell_type": "code",
   "execution_count": 29,
   "id": "a9d12edb",
   "metadata": {
    "execution": {
     "iopub.execute_input": "2021-12-22T07:58:41.079513Z",
     "iopub.status.busy": "2021-12-22T07:58:41.078904Z",
     "iopub.status.idle": "2021-12-22T08:01:46.788713Z",
     "shell.execute_reply": "2021-12-22T08:01:46.789262Z",
     "shell.execute_reply.started": "2021-12-22T07:08:57.858238Z"
    },
    "papermill": {
     "duration": 185.750776,
     "end_time": "2021-12-22T08:01:46.789452",
     "exception": false,
     "start_time": "2021-12-22T07:58:41.038676",
     "status": "completed"
    },
    "tags": []
   },
   "outputs": [
    {
     "data": {
      "text/plain": [
       "array([[1.        , 0.        , 0.        , ..., 0.0086881 , 0.00875237,\n",
       "        0.01567835],\n",
       "       [0.        , 1.        , 0.03418614, ..., 0.        , 0.        ,\n",
       "        0.        ],\n",
       "       [0.        , 0.03418614, 1.        , ..., 0.        , 0.        ,\n",
       "        0.0183939 ],\n",
       "       ...,\n",
       "       [0.0086881 , 0.        , 0.        , ..., 1.        , 0.05630591,\n",
       "        0.01206159],\n",
       "       [0.00875237, 0.        , 0.        , ..., 0.05630591, 1.        ,\n",
       "        0.01215082],\n",
       "       [0.01567835, 0.        , 0.0183939 , ..., 0.01206159, 0.01215082,\n",
       "        1.        ]])"
      ]
     },
     "execution_count": 29,
     "metadata": {},
     "output_type": "execute_result"
    }
   ],
   "source": [
    "from sklearn.metrics.pairwise import cosine_similarity\n",
    "similarity = cosine_similarity(vectors)\n",
    "similarity"
   ]
  },
  {
   "cell_type": "code",
   "execution_count": 30,
   "id": "59e0e73b",
   "metadata": {
    "execution": {
     "iopub.execute_input": "2021-12-22T08:01:46.867261Z",
     "iopub.status.busy": "2021-12-22T08:01:46.866568Z",
     "iopub.status.idle": "2021-12-22T08:01:46.896435Z",
     "shell.execute_reply": "2021-12-22T08:01:46.895934Z",
     "shell.execute_reply.started": "2021-12-22T07:23:20.861204Z"
    },
    "papermill": {
     "duration": 0.07011,
     "end_time": "2021-12-22T08:01:46.896574",
     "exception": false,
     "start_time": "2021-12-22T08:01:46.826464",
     "status": "completed"
    },
    "tags": []
   },
   "outputs": [
    {
     "data": {
      "text/plain": [
       "[(4877, 0.18518186605972042),\n",
       " (13941, 0.15782719075269164),\n",
       " (19821, 0.13629445714417657),\n",
       " (16175, 0.13616883177317995),\n",
       " (6038, 0.1355774306523915)]"
      ]
     },
     "execution_count": 30,
     "metadata": {},
     "output_type": "execute_result"
    }
   ],
   "source": [
    "dis=sorted(list(enumerate(similarity[0])), reverse=True, key=lambda x:x[1])\n",
    "dis[1:6]"
   ]
  },
  {
   "cell_type": "code",
   "execution_count": 31,
   "id": "917b98d0",
   "metadata": {
    "execution": {
     "iopub.execute_input": "2021-12-22T08:01:46.976054Z",
     "iopub.status.busy": "2021-12-22T08:01:46.975394Z",
     "iopub.status.idle": "2021-12-22T08:01:46.992268Z",
     "shell.execute_reply": "2021-12-22T08:01:46.992859Z",
     "shell.execute_reply.started": "2021-12-22T07:36:06.917858Z"
    },
    "papermill": {
     "duration": 0.058816,
     "end_time": "2021-12-22T08:01:46.993031",
     "exception": false,
     "start_time": "2021-12-22T08:01:46.934215",
     "status": "completed"
    },
    "tags": []
   },
   "outputs": [
    {
     "data": {
      "text/plain": [
       "2"
      ]
     },
     "execution_count": 31,
     "metadata": {},
     "output_type": "execute_result"
    }
   ],
   "source": [
    "#newdf[newdf['title'] == \"Ganglands\"].index \n",
    "# above code gives tuple => Int64Index([2], dtype='int64')\n",
    "# we jusst want index [2] to be fetched, in 0th position in tuple\n",
    "\n",
    "newdf[newdf['title'] == \"Ganglands\"].index[0]"
   ]
  },
  {
   "cell_type": "code",
   "execution_count": 32,
   "id": "f77acd35",
   "metadata": {
    "execution": {
     "iopub.execute_input": "2021-12-22T08:01:47.071009Z",
     "iopub.status.busy": "2021-12-22T08:01:47.070182Z",
     "iopub.status.idle": "2021-12-22T08:01:47.076586Z",
     "shell.execute_reply": "2021-12-22T08:01:47.077144Z",
     "shell.execute_reply.started": "2021-12-22T07:57:14.418843Z"
    },
    "papermill": {
     "duration": 0.047118,
     "end_time": "2021-12-22T08:01:47.077316",
     "exception": false,
     "start_time": "2021-12-22T08:01:47.030198",
     "status": "completed"
    },
    "tags": []
   },
   "outputs": [],
   "source": [
    "# define recommend function\n",
    "\n",
    "def recommend(movie):\n",
    "    index = newdf[newdf['title'] == movie].index[0]\n",
    "    distances = sorted(list(enumerate(similarity[index])), reverse=True,key=lambda x:x[1])\n",
    "    #for i in distances[1:6]:\n",
    "        #print(newdf.iloc[i[0]].title)\n",
    "        #print(\"Watch on:- \",newdf.iloc[i[0]].platform)\n",
    "    dic = {0: df.iloc[distances[1][0]],\n",
    "           1: df.iloc[distances[2][0]],\n",
    "           2: df.iloc[distances[3][0]],\n",
    "           3: df.iloc[distances[4][0]],\n",
    "           4: df.iloc[distances[5][0]]}\n",
    "    df1 = pd.DataFrame(dic).T\n",
    "    return df1"
   ]
  },
  {
   "cell_type": "code",
   "execution_count": 33,
   "id": "fd5b785c",
   "metadata": {
    "execution": {
     "iopub.execute_input": "2021-12-22T08:01:47.155992Z",
     "iopub.status.busy": "2021-12-22T08:01:47.155316Z",
     "iopub.status.idle": "2021-12-22T08:01:47.201902Z",
     "shell.execute_reply": "2021-12-22T08:01:47.201294Z",
     "shell.execute_reply.started": "2021-12-22T07:57:14.811196Z"
    },
    "papermill": {
     "duration": 0.087143,
     "end_time": "2021-12-22T08:01:47.202050",
     "exception": false,
     "start_time": "2021-12-22T08:01:47.114907",
     "status": "completed"
    },
    "tags": []
   },
   "outputs": [
    {
     "data": {
      "text/html": [
       "<div>\n",
       "<style scoped>\n",
       "    .dataframe tbody tr th:only-of-type {\n",
       "        vertical-align: middle;\n",
       "    }\n",
       "\n",
       "    .dataframe tbody tr th {\n",
       "        vertical-align: top;\n",
       "    }\n",
       "\n",
       "    .dataframe thead th {\n",
       "        text-align: right;\n",
       "    }\n",
       "</style>\n",
       "<table border=\"1\" class=\"dataframe\">\n",
       "  <thead>\n",
       "    <tr style=\"text-align: right;\">\n",
       "      <th></th>\n",
       "      <th>type</th>\n",
       "      <th>title</th>\n",
       "      <th>director</th>\n",
       "      <th>cast</th>\n",
       "      <th>country</th>\n",
       "      <th>date_added</th>\n",
       "      <th>release_year</th>\n",
       "      <th>rating</th>\n",
       "      <th>duration</th>\n",
       "      <th>listed_in</th>\n",
       "      <th>description</th>\n",
       "      <th>platform</th>\n",
       "    </tr>\n",
       "  </thead>\n",
       "  <tbody>\n",
       "    <tr>\n",
       "      <th>0</th>\n",
       "      <td>TV Show</td>\n",
       "      <td>Yeh Meri Family</td>\n",
       "      <td>NaN</td>\n",
       "      <td>Vishesh Bansal, Mona Singh, Akarsh Khurana, Ah...</td>\n",
       "      <td>India</td>\n",
       "      <td>August 31, 2018</td>\n",
       "      <td>2018</td>\n",
       "      <td>TV-PG</td>\n",
       "      <td>1 Season</td>\n",
       "      <td>International TV Shows, TV Comedies</td>\n",
       "      <td>In the summer of 1998, middle child Harshu bal...</td>\n",
       "      <td>Netflix</td>\n",
       "    </tr>\n",
       "    <tr>\n",
       "      <th>1</th>\n",
       "      <td>TV Show</td>\n",
       "      <td>Girls Hostel</td>\n",
       "      <td>NaN</td>\n",
       "      <td>Srishti Shrivastava, Parul Gulati, Simran Nate...</td>\n",
       "      <td>India</td>\n",
       "      <td>October 1, 2019</td>\n",
       "      <td>2018</td>\n",
       "      <td>TV-MA</td>\n",
       "      <td>1 Season</td>\n",
       "      <td>International TV Shows, TV Comedies, TV Dramas</td>\n",
       "      <td>Four girls from different backgrounds become u...</td>\n",
       "      <td>Netflix</td>\n",
       "    </tr>\n",
       "    <tr>\n",
       "      <th>2</th>\n",
       "      <td>Movie</td>\n",
       "      <td>Luckee</td>\n",
       "      <td>Sanjay Jadhav</td>\n",
       "      <td>Abhay Mahajan, Dipti Sati, Mayur More, Shubhan...</td>\n",
       "      <td>India</td>\n",
       "      <td>June 15, 2019</td>\n",
       "      <td>2019</td>\n",
       "      <td>TV-14</td>\n",
       "      <td>113 min</td>\n",
       "      <td>Comedies, International Movies, Romantic Movies</td>\n",
       "      <td>When his friends make a bet that he can woo hi...</td>\n",
       "      <td>Netflix</td>\n",
       "    </tr>\n",
       "    <tr>\n",
       "      <th>3</th>\n",
       "      <td>TV Show</td>\n",
       "      <td>Little Things</td>\n",
       "      <td>NaN</td>\n",
       "      <td>Dhruv Sehgal, Mithila Palkar</td>\n",
       "      <td>India</td>\n",
       "      <td>November 9, 2019</td>\n",
       "      <td>2019</td>\n",
       "      <td>TV-MA</td>\n",
       "      <td>3 Seasons</td>\n",
       "      <td>International TV Shows, Romantic TV Shows, TV ...</td>\n",
       "      <td>A cohabiting couple in their 20s navigate the ...</td>\n",
       "      <td>Netflix</td>\n",
       "    </tr>\n",
       "    <tr>\n",
       "      <th>4</th>\n",
       "      <td>TV Show</td>\n",
       "      <td>Titipo Titipo</td>\n",
       "      <td>NaN</td>\n",
       "      <td>NaN</td>\n",
       "      <td>NaN</td>\n",
       "      <td>NaN</td>\n",
       "      <td>2021</td>\n",
       "      <td>ALL</td>\n",
       "      <td>1 Season</td>\n",
       "      <td>Animation, Kids</td>\n",
       "      <td>Titipo is the new train who just became offici...</td>\n",
       "      <td>Amazon Prime</td>\n",
       "    </tr>\n",
       "  </tbody>\n",
       "</table>\n",
       "</div>"
      ],
      "text/plain": [
       "      type            title       director  \\\n",
       "0  TV Show  Yeh Meri Family            NaN   \n",
       "1  TV Show     Girls Hostel            NaN   \n",
       "2    Movie           Luckee  Sanjay Jadhav   \n",
       "3  TV Show    Little Things            NaN   \n",
       "4  TV Show    Titipo Titipo            NaN   \n",
       "\n",
       "                                                cast country  \\\n",
       "0  Vishesh Bansal, Mona Singh, Akarsh Khurana, Ah...   India   \n",
       "1  Srishti Shrivastava, Parul Gulati, Simran Nate...   India   \n",
       "2  Abhay Mahajan, Dipti Sati, Mayur More, Shubhan...   India   \n",
       "3                       Dhruv Sehgal, Mithila Palkar   India   \n",
       "4                                                NaN     NaN   \n",
       "\n",
       "         date_added release_year rating   duration  \\\n",
       "0   August 31, 2018         2018  TV-PG   1 Season   \n",
       "1   October 1, 2019         2018  TV-MA   1 Season   \n",
       "2     June 15, 2019         2019  TV-14    113 min   \n",
       "3  November 9, 2019         2019  TV-MA  3 Seasons   \n",
       "4               NaN         2021    ALL   1 Season   \n",
       "\n",
       "                                           listed_in  \\\n",
       "0                International TV Shows, TV Comedies   \n",
       "1     International TV Shows, TV Comedies, TV Dramas   \n",
       "2    Comedies, International Movies, Romantic Movies   \n",
       "3  International TV Shows, Romantic TV Shows, TV ...   \n",
       "4                                    Animation, Kids   \n",
       "\n",
       "                                         description      platform  \n",
       "0  In the summer of 1998, middle child Harshu bal...       Netflix  \n",
       "1  Four girls from different backgrounds become u...       Netflix  \n",
       "2  When his friends make a bet that he can woo hi...       Netflix  \n",
       "3  A cohabiting couple in their 20s navigate the ...       Netflix  \n",
       "4  Titipo is the new train who just became offici...  Amazon Prime  "
      ]
     },
     "execution_count": 33,
     "metadata": {},
     "output_type": "execute_result"
    }
   ],
   "source": [
    "recommend(\"Kota Factory\")"
   ]
  },
  {
   "cell_type": "code",
   "execution_count": null,
   "id": "d5520531",
   "metadata": {
    "papermill": {
     "duration": 0.038264,
     "end_time": "2021-12-22T08:01:47.278459",
     "exception": false,
     "start_time": "2021-12-22T08:01:47.240195",
     "status": "completed"
    },
    "tags": []
   },
   "outputs": [],
   "source": []
  },
  {
   "cell_type": "code",
   "execution_count": null,
   "id": "4dc9d6b5",
   "metadata": {
    "papermill": {
     "duration": 0.038015,
     "end_time": "2021-12-22T08:01:47.355242",
     "exception": false,
     "start_time": "2021-12-22T08:01:47.317227",
     "status": "completed"
    },
    "tags": []
   },
   "outputs": [],
   "source": []
  }
 ],
 "metadata": {
  "kernelspec": {
   "display_name": "Python 3",
   "language": "python",
   "name": "python3"
  },
  "language_info": {
   "codemirror_mode": {
    "name": "ipython",
    "version": 3
   },
   "file_extension": ".py",
   "mimetype": "text/x-python",
   "name": "python",
   "nbconvert_exporter": "python",
   "pygments_lexer": "ipython3",
   "version": "3.7.12"
  },
  "papermill": {
   "default_parameters": {},
   "duration": 206.12971,
   "end_time": "2021-12-22T08:01:48.306304",
   "environment_variables": {},
   "exception": null,
   "input_path": "__notebook__.ipynb",
   "output_path": "__notebook__.ipynb",
   "parameters": {},
   "start_time": "2021-12-22T07:58:22.176594",
   "version": "2.3.3"
  }
 },
 "nbformat": 4,
 "nbformat_minor": 5
}
